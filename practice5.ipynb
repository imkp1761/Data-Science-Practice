{
 "cells": [
  {
   "cell_type": "code",
   "execution_count": 2,
   "id": "16e185ec",
   "metadata": {},
   "outputs": [],
   "source": [
    "import matplotlib.pyplot as plt\n",
    "import numpy as np\n",
    "%matplotlib inline"
   ]
  },
  {
   "cell_type": "code",
   "execution_count": 3,
   "id": "a075bd8b",
   "metadata": {},
   "outputs": [],
   "source": [
    "company = [\"GOOGL\", \"AMZN\", \"MSFT\",\"FB\"]\n",
    "revenue = [90,136,89,27]\n",
    "profit=[40,2,34,12]"
   ]
  },
  {
   "cell_type": "code",
   "execution_count": 4,
   "id": "49b03cb3",
   "metadata": {},
   "outputs": [],
   "source": [
    "ypos=np.arange(len(company))"
   ]
  },
  {
   "cell_type": "code",
   "execution_count": 5,
   "id": "48962a02",
   "metadata": {},
   "outputs": [
    {
     "data": {
      "text/plain": [
       "array([0, 1, 2, 3])"
      ]
     },
     "execution_count": 5,
     "metadata": {},
     "output_type": "execute_result"
    }
   ],
   "source": [
    "ypos"
   ]
  },
  {
   "cell_type": "code",
   "execution_count": 15,
   "id": "6cdc6762",
   "metadata": {},
   "outputs": [
    {
     "data": {
      "text/plain": [
       "([<matplotlib.axis.XTick at 0x20883f75d00>,\n",
       "  <matplotlib.axis.XTick at 0x20883f75cd0>,\n",
       "  <matplotlib.axis.XTick at 0x20883f75400>,\n",
       "  <matplotlib.axis.XTick at 0x20883fcc490>],\n",
       " [Text(0, 0, 'GOOGL'),\n",
       "  Text(1, 0, 'AMZN'),\n",
       "  Text(2, 0, 'MSFT'),\n",
       "  Text(3, 0, 'FB')])"
      ]
     },
     "execution_count": 15,
     "metadata": {},
     "output_type": "execute_result"
    },
    {
     "data": {
      "image/png": "[encoded data removed]",
      "text/plain": [
       "<Figure size 432x288 with 1 Axes>"
      ]
     },
     "metadata": {
      "needs_background": "light"
     },
     "output_type": "display_data"
    }
   ],
   "source": [
    "plt.ticks(ypos,company)"
   ]
  },
  {
   "cell_type": "code",
   "execution_count": null,
   "id": "71c6e8c3",
   "metadata": {},
   "outputs": [],
   "source": []
  },
  {
   "cell_type": "code",
   "execution_count": null,
   "id": "80698f90",
   "metadata": {},
   "outputs": [],
   "source": []
  }
 ],
 "metadata": {
  "kernelspec": {
   "display_name": "Python 3 (ipykernel)",
   "language": "python",
   "name": "python3"
  },
  "language_info": {
   "codemirror_mode": {
    "name": "ipython",
    "version": 3
   },
   "file_extension": ".py",
   "mimetype": "text/x-python",
   "name": "python",
   "nbconvert_exporter": "python",
   "pygments_lexer": "ipython3",
   "version": "3.9.12"
  }
 },
 "nbformat": 4,
 "nbformat_minor": 5
}
